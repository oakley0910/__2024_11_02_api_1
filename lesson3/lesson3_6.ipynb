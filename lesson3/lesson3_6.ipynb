{
 "cells": [
  {
   "cell_type": "code",
   "execution_count": null,
   "metadata": {},
   "outputs": [],
   "source": [
    "def get_status(bmi: float) -> str:\n",
    "    '''\n",
    "    docstring\n",
    "    Parameter:\n",
    "        bmi:bmi值可以整數或浮點數\n",
    "    Return:str\n",
    "        會傳出5個狀態\n",
    "        -\n",
    "        \n",
    "    '''\n",
    "\n",
    "    if 18.5 <= bmi < 24:\n",
    "        bmi_status = \"不瘦不胖\"\n",
    "    elif 24 <= bmi < 27:\n",
    "        bmi_status = \"有點過重囉\"\n",
    "    elif 27 <= bmi < 30:\n",
    "        bmi_status = \"輕微胖胖\"\n",
    "    elif 30 <= bmi < 35:\n",
    "        bmi_status = \"中度胖胖\"\n",
    "    elif bmi >= 35:\n",
    "        bmi_status = \"過重胖胖\"\n",
    "    else:\n",
    "        bmi_status = \"瘦皮猴\"\n",
    "    return bmi_status\n",
    "\n",
    "while(True):\n",
    "    try:\n",
    "        height = float(input(\"請輸入您的身高（公分）：\"))\n",
    "        weight = float(input(\"請輸入您的體重（公斤）：\"))\n",
    "        break\n",
    "    except ValueError:\n",
    "        print(\"請輸入數字\")\n",
    "\n",
    "bmi = weight / (height / 100) ** 2\n",
    "bmi_status = get_status(bmi)\n",
    "\n",
    "print(f'您的身高為：{height} 公分')\n",
    "print(f'您的體重為：{weight} 公斤')\n",
    "print(f'BMI結果：{bmi_status}')\n",
    "print(f\"您的BMI值為：{bmi:.2f}\")\n",
    "print(\"結束了~該吃吃喝喝了\")"
   ]
  }
 ],
 "metadata": {
  "kernelspec": {
   "display_name": "base",
   "language": "python",
   "name": "python3"
  },
  "language_info": {
   "codemirror_mode": {
    "name": "ipython",
    "version": 3
   },
   "file_extension": ".py",
   "mimetype": "text/x-python",
   "name": "python",
   "nbconvert_exporter": "python",
   "pygments_lexer": "ipython3",
   "version": "3.12.3"
  }
 },
 "nbformat": 4,
 "nbformat_minor": 2
}
