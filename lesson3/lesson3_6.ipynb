{
 "cells": [
  {
   "cell_type": "code",
   "execution_count": 40,
   "metadata": {},
   "outputs": [],
   "source": [
    "def get_status(bmi:float)->str:\n",
    "        print(f\"BMI值:{bmi_str}\")\n",
    "        if 18.5 <= bmi < 24:\n",
    "            bmi_str=(\"不瘦不胖\")\n",
    "        elif 24 <= bmi < 27:\n",
    "            bmi_str=(\"有點過重囉\")\n",
    "        elif 27 <= bmi < 30:\n",
    "            bmi_str=(\"輕微胖胖\")\n",
    "        elif 30 <= bmi < 35:\n",
    "            bmi_str=(\"中度胖胖\")\n",
    "        elif bmi >= 35:\n",
    "            bmi_str=(\"過重胖胖\")\n",
    "        else:\n",
    "            bmi_str=(\"瘦皮猴\")\n",
    "        return bmi_str\n",
    "\n",
    "while(True):\n",
    "    try:\n",
    "        height = float(input(\"請輸入您的身高（公分）：\"))\n",
    "        weight = float(input(\"請輸入您的體重（公斤）：\"))\n",
    "        bmi=weight/((height/100)**2)\n",
    "        break\n",
    "    except ValueError:\n",
    "        print(\"請確保您輸入的是數字！\")\n",
    "    else:\n",
    "        print(f'您的身高為：{height} 公分')\n",
    "        print(f'您的體重為：{weight} 公斤')\n",
    "        print(f\"您的BMI值為：{bmi}\")\n",
    "        print(\"結束了該吃吃喝喝了\")"
   ]
  }
 ],
 "metadata": {
  "kernelspec": {
   "display_name": "base",
   "language": "python",
   "name": "python3"
  },
  "language_info": {
   "codemirror_mode": {
    "name": "ipython",
    "version": 3
   },
   "file_extension": ".py",
   "mimetype": "text/x-python",
   "name": "python",
   "nbconvert_exporter": "python",
   "pygments_lexer": "ipython3",
   "version": "3.12.2"
  }
 },
 "nbformat": 4,
 "nbformat_minor": 2
}
