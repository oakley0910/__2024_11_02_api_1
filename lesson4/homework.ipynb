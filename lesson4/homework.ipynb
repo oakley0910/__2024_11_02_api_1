{
 "cells": [
  {
   "cell_type": "code",
   "execution_count": 18,
   "metadata": {},
   "outputs": [
    {
     "name": "stdout",
     "output_type": "stream",
     "text": [
      "您的姓名是 壯壯\n",
      "你的 BMI 值是 21.48\n",
      "您的體重狀態是: 嘟嘟好~\n",
      "測完可以吃吃喝喝囉~\n"
     ]
    }
   ],
   "source": [
    "while True:\n",
    "    try:\n",
    "        name = input(\"姓名:\")\n",
    "        height = float(input(\"請輸入身高(公分): \"))\n",
    "        weight = float(input(\"請輸入體重(公斤): \"))\n",
    "        p1 = BMI(name=name, height=height, weight=weight)   \n",
    "        break\n",
    "    except ValueError:\n",
    "        print('打錯了!重來!')\n",
    "\n",
    "print(f\"您的姓名是 {p1.name}\")\n",
    "print(f\"你的 BMI 值是 {p1.get_BMI()}\")\n",
    "print(f\"您的體重狀態是: {p1.get_status()}\")\n",
    "print(\"測完可以吃吃喝喝囉~\")"
   ]
  }
 ],
 "metadata": {
  "kernelspec": {
   "display_name": "base",
   "language": "python",
   "name": "python3"
  },
  "language_info": {
   "codemirror_mode": {
    "name": "ipython",
    "version": 3
   },
   "file_extension": ".py",
   "mimetype": "text/x-python",
   "name": "python",
   "nbconvert_exporter": "python",
   "pygments_lexer": "ipython3",
   "version": "3.12.3"
  }
 },
 "nbformat": 4,
 "nbformat_minor": 2
}
