{
 "cells": [
  {
   "cell_type": "code",
   "execution_count": 38,
   "metadata": {},
   "outputs": [
    {
     "ename": "ModuleNotFoundError",
     "evalue": "No module named 'openpyxl'",
     "output_type": "error",
     "traceback": [
      "\u001b[0;31m---------------------------------------------------------------------------\u001b[0m",
      "\u001b[0;31mModuleNotFoundError\u001b[0m                       Traceback (most recent call last)",
      "Cell \u001b[0;32mIn[38], line 1\u001b[0m\n\u001b[0;32m----> 1\u001b[0m \u001b[38;5;28;01mfrom\u001b[39;00m \u001b[38;5;21;01mopenpyxl\u001b[39;00m \u001b[38;5;28;01mimport\u001b[39;00m load_workbook, Workbook, worksheet\n\u001b[1;32m      3\u001b[0m wb:Workbook \u001b[38;5;241m=\u001b[39m load_workbook(\u001b[38;5;124m'\u001b[39m\u001b[38;5;124maqi.xlsx\u001b[39m\u001b[38;5;124m'\u001b[39m)\n\u001b[1;32m      4\u001b[0m \u001b[38;5;28mtype\u001b[39m(wb)\n",
      "\u001b[0;31mModuleNotFoundError\u001b[0m: No module named 'openpyxl'"
     ]
    }
   ],
   "source": [
    "from openpyxl import load_workbook, Workbook, worksheet\n",
    "\n",
    "wb:Workbook = load_workbook('aqi.xlsx')\n",
    "type(wb)"
   ]
  },
  {
   "cell_type": "code",
   "execution_count": null,
   "metadata": {},
   "outputs": [],
   "source": [
    "from pprint import pprint\n",
    "sheet:worksheet = wb.worksheets[0]\n",
    "type(sheet)\n",
    "sheets:list = []\n",
    "column_names:list[str] =[cell.value for cell in list(sheet)[0]]\n",
    "print(column_names)\n",
    "\n",
    "for row in list(sheet)[1:]:\n",
    "    site:dict = {}\n",
    "    for idx,cell in enumerate(row):        \n",
    "        #print(column_names[idx], item.value)\n",
    "        #print(idx,cell)\n",
    "        site[column_names[idx]] = cell.value\n",
    "    #print(\"===========\")\n",
    "    sheets.append(site)\n",
    "#print(len(sheets))\n",
    "pprint(sheets)"
   ]
  },
  {
   "cell_type": "code",
   "execution_count": null,
   "metadata": {},
   "outputs": [],
   "source": [
    "from openpyxl import load_workbook, Workbook, worksheet\n",
    "\n",
    "wb:Workbook = load_workbook('aqi.xlsx')\n",
    "from pprint import pprint\n",
    "sheet:worksheet = wb.worksheets[0]\n",
    "sheets:list = []\n",
    "column_names:list[str] =[cell.value for cell in list(sheet)[0]]\n",
    "for row in list(sheet)[1:]:\n",
    "    site:dict = {column_names[idx]:cell.value for idx,cell in enumerate(row)}    \n",
    "    sheets.append(site)\n",
    "\n",
    "pprint(sheets)"
   ]
  },
  {
   "cell_type": "code",
   "execution_count": null,
   "metadata": {},
   "outputs": [],
   "source": [
    "for site in sheets:\n",
    "    if site['sitename'] == '永和':\n",
    "        print(site)"
   ]
  }
 ],
 "metadata": {
  "kernelspec": {
   "display_name": "base",
   "language": "python",
   "name": "python3"
  },
  "language_info": {
   "codemirror_mode": {
    "name": "ipython",
    "version": 3
   },
   "file_extension": ".py",
   "mimetype": "text/x-python",
   "name": "python",
   "nbconvert_exporter": "python",
   "pygments_lexer": "ipython3",
   "version": "3.12.2"
  }
 },
 "nbformat": 4,
 "nbformat_minor": 2
}
