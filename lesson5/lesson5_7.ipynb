{
 "cells": [
  {
   "cell_type": "code",
   "execution_count": 3,
   "metadata": {},
   "outputs": [
    {
     "name": "stdout",
     "output_type": "stream",
     "text": [
      "本期大樂透電腦選號號碼如下:\n",
      "3 5 22 24 31 35\n",
      "特別號:24\n"
     ]
    }
   ],
   "source": [
    "import random\n",
    "\n",
    "# 生成 1 到 49 的號碼，並隨機選擇 6 個不重複的號碼\n",
    "lotto_numbers = random.sample(range(1, 50), 6)\n",
    "\n",
    "# 隨機選擇一個特別號\n",
    "special_number = random.choice(lotto_numbers)\n",
    "\n",
    "# 輸出結果\n",
    "print(\"本期大樂透電腦選號號碼如下:\")\n",
    "print(\" \".join(map(str, sorted(lotto_numbers))))  # 顯示排序後的號碼\n",
    "print(f\"特別號:{special_number}\")"
   ]
  },
  {
   "cell_type": "code",
   "execution_count": 11,
   "metadata": {},
   "outputs": [
    {
     "name": "stdout",
     "output_type": "stream",
     "text": [
      "本期大樂透電腦選號號碼如下:\n",
      "4 13 14 18 32 45\n",
      "特別號:45\n"
     ]
    }
   ],
   "source": [
    "import random\n",
    "\n",
    "def generate_lotto_numbers():\n",
    "    # 生成 1 到 49 的號碼，並隨機選擇 6 個不重複的號碼\n",
    "    lotto_numbers = random.sample(range(1, 50), 6)\n",
    "    \n",
    "    # 隨機選擇一個特別號\n",
    "    special_number = random.choice(lotto_numbers)\n",
    "    \n",
    "    # 返回號碼和特別號\n",
    "    return sorted(lotto_numbers), special_number\n",
    "\n",
    "def main():\n",
    "    # 生成大樂透號碼\n",
    "    lotto_numbers, special_number = generate_lotto_numbers()\n",
    "    \n",
    "    # 輸出結果\n",
    "    print(\"本期大樂透電腦選號號碼如下:\")\n",
    "    print(\" \".join(map(str, lotto_numbers)))  # 顯示排序後的號碼\n",
    "    print(f\"特別號:{special_number}\")\n",
    "\n",
    "if __name__ == \"__main__\":\n",
    "    main()"
   ]
  },
  {
   "cell_type": "code",
   "execution_count": null,
   "metadata": {},
   "outputs": [
    {
     "name": "stdout",
     "output_type": "stream",
     "text": [
      "本期大樂透電腦選號號碼如下:\n",
      "12 19 21 27 33 45\n",
      "特別號:21\n"
     ]
    }
   ],
   "source": [
    "import random\n",
    "\n",
    "def generate_lotto_numbers():\n",
    "    lotto_numbers = random.sample(range(1, 50), 6)\n",
    "    \n",
    "    special_number = random.choice(lotto_numbers)\n",
    "    \n",
    "    return sorted(lotto_numbers), special_number\n",
    "\n",
    "def main():\n",
    "    lotto_numbers, special_number = generate_lotto_numbers()\n",
    "    \n",
    "    print(\"本期大樂透電腦選號號碼如下:\")\n",
    "    print(\" \".join(map(str, lotto_numbers)))\n",
    "    print(f\"特別號:{special_number}\")\n",
    "\n",
    "if __name__ == \"__main__\":\n",
    "    main()"
   ]
  }
 ],
 "metadata": {
  "kernelspec": {
   "display_name": "base",
   "language": "python",
   "name": "python3"
  },
  "language_info": {
   "codemirror_mode": {
    "name": "ipython",
    "version": 3
   },
   "file_extension": ".py",
   "mimetype": "text/x-python",
   "name": "python",
   "nbconvert_exporter": "python",
   "pygments_lexer": "ipython3",
   "version": "3.12.3"
  }
 },
 "nbformat": 4,
 "nbformat_minor": 2
}
