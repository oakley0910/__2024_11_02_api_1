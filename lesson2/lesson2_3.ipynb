{
 "cells": [
  {
   "cell_type": "code",
   "execution_count": 6,
   "metadata": {},
   "outputs": [
    {
     "name": "stdout",
     "output_type": "stream",
     "text": [
      "學生的分數是:262.5分\n",
      "學生的分數是:262.5分\n",
      "應用程式結束\n"
     ]
    }
   ],
   "source": [
    "#學生總分為300\n",
    "#有些學生可以加分5%\n",
    "#如果加分超過300,就以300分為準\n",
    "try:\n",
    "    scores = int(input('請輸入學生分數(最高300分):'))\n",
    "except Exception:\n",
    "    print('發生錯誤')\n",
    "\n",
    "else:\n",
    "    is_add = input('學生是否符合加分條件?(y,n)')\n",
    "    if is_add == 'y':\n",
    "        scores = scores * 1.05\n",
    "        if scores > 300:\n",
    "            scores = 300\n",
    "\n",
    "    print(\"學生的分數是:\" + str(scores) + \"分\")\n",
    "    print(F\"學生的分數是:{scores}分\")\n",
    "\n",
    "\n",
    "print('應用程式結束')"
   ]
  },
  {
   "cell_type": "code",
   "execution_count": null,
   "metadata": {},
   "outputs": [
    {
     "ename": "IndentationError",
     "evalue": "unindent does not match any outer indentation level (<string>, line 12)",
     "output_type": "error",
     "traceback": [
      "\u001b[0;36m  File \u001b[0;32m<string>:12\u001b[0;36m\u001b[0m\n\u001b[0;31m    if scores < 60:\u001b[0m\n\u001b[0m                   ^\u001b[0m\n\u001b[0;31mIndentationError\u001b[0m\u001b[0;31m:\u001b[0m unindent does not match any outer indentation level\n"
     ]
    }
   ],
   "source": [
    "#學生總分為100\n",
    "#有些學生可以加分5%\n",
    "#如果加分超過300,就以300分為準\n",
    "try:\n",
    "    scores = int(input('請輸入學生分數(最高100分):'))\n",
    "except Exception:\n",
    "    print('發生錯誤')\n",
    "\n",
    "else:\n",
    "   if scores >= 90:\n",
    "     print(\"特優\")\n",
    "    if scores < 60:\n",
    "     print(\"不及格\")\n",
    "    if scores > 60:\n",
    "     print(\"及格\")\n",
    "\n",
    "print('應用程式結束')"
   ]
  },
  {
   "cell_type": "code",
   "execution_count": 25,
   "metadata": {},
   "outputs": [
    {
     "name": "stdout",
     "output_type": "stream",
     "text": [
      "及格\n"
     ]
    }
   ],
   "source": [
    "scores = int(input('請輸入學生分數:'))\n",
    "if scores >= 90:\n",
    "    print(\"特優\")\n",
    "else:\n",
    "    if scores >= 60:\n",
    "        print(\"及格\")\n",
    "    else:\n",
    "        print(\"不及格\")\n",
    "\n"
   ]
  }
 ],
 "metadata": {
  "kernelspec": {
   "display_name": "base",
   "language": "python",
   "name": "python3"
  },
  "language_info": {
   "codemirror_mode": {
    "name": "ipython",
    "version": 3
   },
   "file_extension": ".py",
   "mimetype": "text/x-python",
   "name": "python",
   "nbconvert_exporter": "python",
   "pygments_lexer": "ipython3",
   "version": "3.12.2"
  }
 },
 "nbformat": 4,
 "nbformat_minor": 2
}
