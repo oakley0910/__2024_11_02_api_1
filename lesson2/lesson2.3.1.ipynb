{
 "cells": [
  {
   "cell_type": "code",
   "execution_count": 7,
   "metadata": {},
   "outputs": [
    {
     "name": "stdout",
     "output_type": "stream",
     "text": [
      "您的身高為：160.0\n",
      "您的體重為：50.0\n",
      "您的BMI值為：19.53\n",
      "您的BMI在正常範圍內。\n"
     ]
    }
   ],
   "source": [
    "def calculate_bmi():\n",
    "    # 讓使用者輸入身高（單位：公分）和體重（單位：公斤）\n",
    "    height_cm = float(input(\"請輸入您的身高（公分）：\"))\n",
    "    weight_kg = float(input(\"請輸入您的體重（公斤）：\"))\n",
    "    \n",
    "    # 將身高從公分轉換為公尺\n",
    "    height_m = height_cm / 100\n",
    "\n",
    "    # 顯示您的身高\n",
    "    print(f'您的身高為：{height_cm}')\n",
    "\n",
    "    # 顯示您的體重\n",
    "    print(f'您的體重為：{weight_kg}')\n",
    "    \n",
    "    # 計算BMI\n",
    "    bmi = weight_kg / (height_m ** 2)\n",
    "    \n",
    "    # 顯示BMI數值\n",
    "    print(f\"您的BMI值為：{bmi:.2f}\")\n",
    "    \n",
    "    # 根據BMI值顯示相應的範圍\n",
    "    if 18.5 <= bmi < 24:\n",
    "        print(\"您的BMI在正常範圍內。\")\n",
    "    elif 24 <= bmi < 27:\n",
    "        print(\"您的BMI屬於過重範圍。\")\n",
    "    elif 27 <= bmi < 30:\n",
    "        print(\"您的BMI屬於輕度肥胖範圍。\")\n",
    "    elif 30 <= bmi < 35:\n",
    "        print(\"您的BMI屬於中度肥胖範圍。\")\n",
    "    elif bmi >= 35:\n",
    "        print(\"您的BMI屬於重度肥胖範圍。\")\n",
    "    else:\n",
    "        print(\"您的BMI屬於過輕範圍。\")\n",
    "\n",
    "# 呼叫函數計算BMI\n",
    "calculate_bmi()"
   ]
  }
 ],
 "metadata": {
  "kernelspec": {
   "display_name": "base",
   "language": "python",
   "name": "python3"
  },
  "language_info": {
   "codemirror_mode": {
    "name": "ipython",
    "version": 3
   },
   "file_extension": ".py",
   "mimetype": "text/x-python",
   "name": "python",
   "nbconvert_exporter": "python",
   "pygments_lexer": "ipython3",
   "version": "3.12.3"
  }
 },
 "nbformat": 4,
 "nbformat_minor": 2
}
