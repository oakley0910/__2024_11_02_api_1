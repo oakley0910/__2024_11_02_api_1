{
 "cells": [
  {
   "cell_type": "code",
   "execution_count": 3,
   "metadata": {},
   "outputs": [
    {
     "name": "stdout",
     "output_type": "stream",
     "text": [
      "您的身高為：160.0 公分\n",
      "您的體重為：50.0 公斤\n",
      "您的BMI值為：19.53\n",
      "您的BMI在正常範圍內。\n"
     ]
    }
   ],
   "source": [
    "try:\n",
    "    height_cm = float(input(\"請輸入您的身高（公分）：\"))\n",
    "    weight_kg = float(input(\"請輸入您的體重（公斤）：\"))\n",
    "    \n",
    "    if height_cm <= 0 or weight_kg <= 0:\n",
    "        print(\"身高和體重必須是正數。請重新輸入。\")\n",
    "    else:\n",
    "        height_m = height_cm / 100\n",
    "        bmi = weight_kg / (height_m ** 2)\n",
    "        \n",
    "        print(f'您的身高為：{height_cm} 公分')\n",
    "        print(f'您的體重為：{weight_kg} 公斤')\n",
    "        print(f\"您的BMI值為：{bmi:.2f}\")\n",
    "        \n",
    "        if 18.5 <= bmi < 24:\n",
    "            print(\"您的BMI在正常範圍內。\")\n",
    "        elif 24 <= bmi < 27:\n",
    "            print(\"您的BMI屬於過重範圍。\")\n",
    "        elif 27 <= bmi < 30:\n",
    "            print(\"您的BMI屬於輕度肥胖範圍。\")\n",
    "        elif 30 <= bmi < 35:\n",
    "            print(\"您的BMI屬於中度肥胖範圍。\")\n",
    "        elif bmi >= 35:\n",
    "            print(\"您的BMI屬於重度肥胖範圍。\")\n",
    "        else:\n",
    "            print(\"您的BMI屬於過輕範圍。\")\n",
    "\n",
    "except ValueError:\n",
    "    print(\"請確保您輸入的是數字！\")"
   ]
  }
 ],
 "metadata": {
  "kernelspec": {
   "display_name": "base",
   "language": "python",
   "name": "python3"
  },
  "language_info": {
   "codemirror_mode": {
    "name": "ipython",
    "version": 3
   },
   "file_extension": ".py",
   "mimetype": "text/x-python",
   "name": "python",
   "nbconvert_exporter": "python",
   "pygments_lexer": "ipython3",
   "version": "3.12.2"
  }
 },
 "nbformat": 4,
 "nbformat_minor": 2
}
